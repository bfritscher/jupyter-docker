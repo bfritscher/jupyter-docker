{
 "cells": [
  {
   "cell_type": "markdown",
   "metadata": {
    "colab_type": "text",
    "id": "view-in-github",
    "slideshow": {
     "slide_type": "skip"
    }
   },
   "source": [
    "<a href=\"https://colab.research.google.com/gist/bfritscher/6ed4277792df8a02572a91884fa507a4/learn-python3.ipynb\" target=\"_parent\"><img src=\"https://colab.research.google.com/assets/colab-badge.svg\" alt=\"Open In Colab\"/></a>"
   ]
  },
  {
   "cell_type": "code",
   "execution_count": 1,
   "metadata": {
    "id": "kE1JSO5YSQKq",
    "slideshow": {
     "slide_type": "skip"
    }
   },
   "outputs": [],
   "source": [
    "from IPython.core.magic import register_cell_magic\n",
    "\n",
    "@register_cell_magic('handle')\n",
    "def handle(line, cell):\n",
    "    try:\n",
    "        exec(cell)\n",
    "    except Exception as exc:\n",
    "        print(f\"\\033[1;31m{exc.__class__.__name__} : \\033[1;31m{exc}\\033[0m\")\n",
    "#         raise # if you want the full trace-back in the notebook"
   ]
  },
  {
   "cell_type": "markdown",
   "metadata": {
    "id": "GnzGV0yKGfne",
    "slideshow": {
     "slide_type": "skip"
    }
   },
   "source": [
    "- https://docs.python.org/3.11/tutorial/\n",
    "- https://realpython.com/java-vs-python/\n",
    "- https://python.doctor/\n",
    "- https://www.py4e.com/lessons\n",
    "\n",
    "\n",
    "Portland State University CS 430P/530 Internet, Web & Cloud Systems\n",
    "\n",
    "- https://pythontutor.com/\n",
    "- https://docs.python.org/3.11/library/index.html#library-index\n",
    "- https://peps.python.org/pep-0008/\n",
    "- https://docs.python-guide.org/\n",
    "\n",
    "\n",
    "\n"
   ]
  },
  {
   "cell_type": "markdown",
   "metadata": {
    "id": "IexoEo77JWCU",
    "slideshow": {
     "slide_type": "slide"
    },
    "tags": []
   },
   "source": [
    "# Python Basics\n",
    "\n",
    "- Everything is an object\n",
    "- Conceptually every object is a box with a value and a defined type\n",
    "- Python is an Interpreted language (but has bytecode)\n",
    "- Python is Dynamically typed — *No more declaring variables*\n",
    "- Python is at the same time a strongly typed language:\n",
    "  - Every object has a specific type associated with it\n",
    "  - Explicit conversion is needed between incompatible types.\n",
    "- Goodbye to {Braces} (and also semicolons;).\n",
    "\n",
    "**It's all about indentation.**\n",
    "\n",
    "\n",
    "\n"
   ]
  },
  {
   "cell_type": "code",
   "execution_count": 2,
   "metadata": {
    "colab": {
     "base_uri": "https://localhost:8080/"
    },
    "id": "4K9lVPz8MsaP",
    "outputId": "da21e366-ace0-40b8-fd45-aa86485e9f13",
    "slideshow": {
     "slide_type": "slide"
    }
   },
   "outputs": [
    {
     "name": "stdout",
     "output_type": "stream",
     "text": [
      "Hello World\n"
     ]
    }
   ],
   "source": [
    "class WorldException(Exception):\n",
    "    pass\n",
    "\n",
    "\n",
    "def hello_you(world = 'world'):\n",
    "    ''' Prints hello to world argument,\n",
    "        except if world then raises Exception'''\n",
    "    print('Hello', end = \" \")\n",
    "\n",
    "    if 'world' == world:\n",
    "        raise WorldException()\n",
    "      \n",
    "    print()\n",
    "    for c in world:\n",
    "        print(c)\n",
    "\n",
    "try:\n",
    "    hello_you()\n",
    "except WorldException:\n",
    "    # But we want to!\n",
    "    print('World')"
   ]
  },
  {
   "cell_type": "markdown",
   "metadata": {
    "id": "M9ixUrh126RL",
    "slideshow": {
     "slide_type": "slide"
    }
   },
   "source": [
    "## Types\n",
    "\n",
    "Types built-in to Python\n",
    "- strings: `hello`\n",
    "- integers: `42`or `1000000`\n",
    "- floats: `3.14159`\n",
    "- boolean (`True` or `False`)\n",
    "- null/none: `None`\n",
    "- complex numbers: `1+2j`\n",
    "\n",
    "```python\n",
    "type(\"hello\")    # str\n",
    "type(42)         # int\n",
    "type(3.1415)     # float\n",
    "type(True)       # bool\n",
    "type(None)       # NoneType\n",
    "type(1+2j)       # complex\n",
    "```\n"
   ]
  },
  {
   "cell_type": "code",
   "execution_count": null,
   "metadata": {
    "colab": {
     "base_uri": "https://localhost:8080/"
    },
    "id": "LKtG2_PC2BK0",
    "outputId": "c7b78267-b2cf-4d02-e291-142baa8377d3",
    "slideshow": {
     "slide_type": "fragment"
    }
   },
   "outputs": [
    {
     "data": {
      "text/plain": [
       "bool"
      ]
     },
     "execution_count": 31,
     "metadata": {},
     "output_type": "execute_result"
    }
   ],
   "source": [
    "type(False)"
   ]
  },
  {
   "cell_type": "markdown",
   "metadata": {
    "id": "dxhqSfoL3LY1",
    "slideshow": {
     "slide_type": "slide"
    }
   },
   "source": [
    "## Variables\n",
    "- Like a post-it note attached to an object\n",
    "- Assignment attaches a name, but does *not* copy a value\n",
    "- Assigning one variable to another attaches another post-it note to the object\n",
    "- Must start with a letter or underscore _ \n",
    "- Must consist of letters, numbers, and underscores\n",
    "- Case Sensitive"
   ]
  },
  {
   "cell_type": "code",
   "execution_count": null,
   "metadata": {
    "colab": {
     "base_uri": "https://localhost:8080/"
    },
    "id": "loxxggd127o7",
    "outputId": "a2c3fb8c-bd9d-4e4f-f355-6125c75e3c67",
    "slideshow": {
     "slide_type": "slide"
    }
   },
   "outputs": [
    {
     "data": {
      "text/plain": [
       "9793280"
      ]
     },
     "execution_count": 32,
     "metadata": {},
     "output_type": "execute_result"
    }
   ],
   "source": [
    "a = 7      # a points to integer object 7\n",
    "id(a)"
   ]
  },
  {
   "cell_type": "code",
   "execution_count": null,
   "metadata": {
    "colab": {
     "base_uri": "https://localhost:8080/"
    },
    "id": "nrLEtXBhCsQV",
    "outputId": "75c64650-bed5-4984-b05c-ac03f4121f7e",
    "slideshow": {
     "slide_type": "fragment"
    }
   },
   "outputs": [
    {
     "data": {
      "text/plain": [
       "9793312"
      ]
     },
     "execution_count": 33,
     "metadata": {},
     "output_type": "execute_result"
    }
   ],
   "source": [
    "a = a + 1  # a points to integer object 8\n",
    "id(a)      # different id"
   ]
  },
  {
   "cell_type": "code",
   "execution_count": null,
   "metadata": {
    "colab": {
     "base_uri": "https://localhost:8080/"
    },
    "id": "mi0w1XKRDA9A",
    "outputId": "168db0c2-255f-4f27-aac6-9e913ec4304c",
    "slideshow": {
     "slide_type": "fragment"
    }
   },
   "outputs": [
    {
     "data": {
      "text/plain": [
       "9793312"
      ]
     },
     "execution_count": 34,
     "metadata": {},
     "output_type": "execute_result"
    }
   ],
   "source": [
    "b = 8      # b points to integer object 8\n",
    "id(b)      # same id as a"
   ]
  },
  {
   "cell_type": "code",
   "execution_count": null,
   "metadata": {
    "colab": {
     "base_uri": "https://localhost:8080/"
    },
    "id": "D5HpEhaxDnCY",
    "outputId": "3c0fc079-9843-4df5-d01e-9f826ac66ba1",
    "slideshow": {
     "slide_type": "fragment"
    }
   },
   "outputs": [
    {
     "data": {
      "text/plain": [
       "9793312"
      ]
     },
     "execution_count": 35,
     "metadata": {},
     "output_type": "execute_result"
    }
   ],
   "source": [
    "c = b      # c points to same object as b\n",
    "id(c)      # same id as b"
   ]
  },
  {
   "cell_type": "markdown",
   "metadata": {
    "id": "8xScYbHpD34M",
    "slideshow": {
     "slide_type": "fragment"
    }
   },
   "source": [
    "[Visualize on Python Tutor](https://pythontutor.com/visualize.html#code=a%20%3D%207%0Aa%20%3D%20a%20%2B%201%0Ab%20%3D%208%0Ac%20%3D%20b&cumulative=true&curInstr=4&heapPrimitives=true&mode=display&origin=opt-frontend.js&py=3&rawInputLstJSON=%5B%5D&textReferences=false)"
   ]
  },
  {
   "cell_type": "markdown",
   "metadata": {
    "id": "BM2d51pR-fAJ",
    "slideshow": {
     "slide_type": "fragment"
    }
   },
   "source": [
    "If a variable is not “defined” (assigned a value), trying to use it will give you an error:"
   ]
  },
  {
   "cell_type": "code",
   "execution_count": null,
   "metadata": {
    "colab": {
     "base_uri": "https://localhost:8080/"
    },
    "id": "NE1Y6ByW-cbU",
    "outputId": "8f0ce9dc-fc20-4348-e398-d51d84fdc589",
    "slideshow": {
     "slide_type": "fragment"
    }
   },
   "outputs": [
    {
     "name": "stdout",
     "output_type": "stream",
     "text": [
      "\u001b[1;31mNameError : \u001b[1;31mname 'n' is not defined\u001b[0m\n"
     ]
    }
   ],
   "source": [
    "%%handle\n",
    "n  # try to access an undefined variable"
   ]
  },
  {
   "cell_type": "markdown",
   "metadata": {
    "id": "qi8ZRdxUMUOP",
    "slideshow": {
     "slide_type": "slide"
    }
   },
   "source": [
    "## Numbers"
   ]
  },
  {
   "cell_type": "code",
   "execution_count": null,
   "metadata": {
    "colab": {
     "base_uri": "https://localhost:8080/"
    },
    "id": "xCyeh57cKWGu",
    "outputId": "91a16351-355d-4278-c720-677568cd610b",
    "slideshow": {
     "slide_type": "fragment"
    }
   },
   "outputs": [
    {
     "data": {
      "text/plain": [
       "8"
      ]
     },
     "execution_count": 37,
     "metadata": {},
     "output_type": "execute_result"
    }
   ],
   "source": [
    "10 + 4 - 6 # Addition and subtraction"
   ]
  },
  {
   "cell_type": "code",
   "execution_count": null,
   "metadata": {
    "colab": {
     "base_uri": "https://localhost:8080/"
    },
    "id": "fxEyCggD-FYI",
    "outputId": "c5f0d0f8-30ee-4a38-a98f-c6623bb9a20a",
    "slideshow": {
     "slide_type": "fragment"
    }
   },
   "outputs": [
    {
     "data": {
      "text/plain": [
       "5.666666666666667"
      ]
     },
     "execution_count": 38,
     "metadata": {},
     "output_type": "execute_result"
    }
   ],
   "source": [
    "17 / 3  # classic division returns a float"
   ]
  },
  {
   "cell_type": "code",
   "execution_count": null,
   "metadata": {
    "colab": {
     "base_uri": "https://localhost:8080/"
    },
    "id": "vgtDW39X-GiB",
    "outputId": "3399abca-3d7b-401f-d6ba-e173bff7c852",
    "slideshow": {
     "slide_type": "fragment"
    }
   },
   "outputs": [
    {
     "data": {
      "text/plain": [
       "5"
      ]
     },
     "execution_count": 39,
     "metadata": {},
     "output_type": "execute_result"
    }
   ],
   "source": [
    "17 // 3  # floor division discards the fractional part"
   ]
  },
  {
   "cell_type": "code",
   "execution_count": null,
   "metadata": {
    "colab": {
     "base_uri": "https://localhost:8080/"
    },
    "id": "3_1DisC_-QVm",
    "outputId": "aa3825ef-8a55-433b-a284-768e79509828",
    "slideshow": {
     "slide_type": "fragment"
    }
   },
   "outputs": [
    {
     "data": {
      "text/plain": [
       "2"
      ]
     },
     "execution_count": 40,
     "metadata": {},
     "output_type": "execute_result"
    }
   ],
   "source": [
    "17 % 3  # the % operator returns the remainder of the division"
   ]
  },
  {
   "cell_type": "code",
   "execution_count": null,
   "metadata": {
    "colab": {
     "base_uri": "https://localhost:8080/"
    },
    "id": "wZqsPFaj-TiS",
    "outputId": "4241882d-b542-4db4-c0fa-00ba10cc1cf2",
    "slideshow": {
     "slide_type": "fragment"
    }
   },
   "outputs": [
    {
     "data": {
      "text/plain": [
       "25"
      ]
     },
     "execution_count": 41,
     "metadata": {},
     "output_type": "execute_result"
    }
   ],
   "source": [
    "5 ** 2  # 5 squared"
   ]
  },
  {
   "cell_type": "markdown",
   "metadata": {
    "id": "jDlv47ATKinH",
    "slideshow": {
     "slide_type": "slide"
    }
   },
   "source": [
    "Operator Precedence Rules\n",
    "\n",
    "Highest precedence rule to lowest precedence rule:\n",
    "- Parentheses are always respected\n",
    "- Exponentiation (raise to a power)\n",
    "- Multiplication, Division, and Remainder\n",
    "- Addition and Subtraction\n",
    "- Left to right\n",
    "\n"
   ]
  },
  {
   "cell_type": "markdown",
   "metadata": {
    "id": "lpbX2qv_LCa7",
    "slideshow": {
     "slide_type": "slide"
    }
   },
   "source": [
    "Type Conversions\n",
    "- When you put an integer and floating point in an expression, the integer is implicitly converted to a float\n",
    "- You can control this with the built-in functions `int()` and `float()`\n"
   ]
  },
  {
   "cell_type": "code",
   "execution_count": 2,
   "metadata": {
    "colab": {
     "base_uri": "https://localhost:8080/"
    },
    "id": "sz-wuuFHLJc-",
    "outputId": "12a3e835-d0f8-4cfe-f75c-d1ce3c2aaa3f",
    "slideshow": {
     "slide_type": "fragment"
    }
   },
   "outputs": [
    {
     "data": {
      "text/plain": [
       "199.0"
      ]
     },
     "execution_count": 2,
     "metadata": {},
     "output_type": "execute_result"
    }
   ],
   "source": [
    "float(99) + 100"
   ]
  },
  {
   "cell_type": "markdown",
   "metadata": {
    "id": "Ql6ec5lc3QDM",
    "slideshow": {
     "slide_type": "slide"
    }
   },
   "source": [
    "## Strings\n",
    "- Immutable sequence of characters\n",
    "- Once defined, they can not be changed in-place\n",
    "- Created via 1 or 3 single quotes or double quotes\n",
    "- Triple quotes are multi-line\n",
    "- Choice allows you to minimize escaping\n",
    "Converting to strings from other types `str()`\n",
    "Note, the built-in function print() will call `str` on any non-string parameter automatically"
   ]
  },
  {
   "cell_type": "code",
   "execution_count": null,
   "metadata": {
    "colab": {
     "base_uri": "https://localhost:8080/",
     "height": 35
    },
    "id": "wWB7k8Ru-0vz",
    "outputId": "f0a3798d-61c4-4e15-d1f1-f0805c4155ec",
    "slideshow": {
     "slide_type": "slide"
    }
   },
   "outputs": [
    {
     "data": {
      "application/vnd.google.colaboratory.intrinsic+json": {
       "type": "string"
      },
      "text/plain": [
       "'spam eggs'"
      ]
     },
     "execution_count": 43,
     "metadata": {},
     "output_type": "execute_result"
    }
   ],
   "source": [
    "'spam eggs'  # single quotes"
   ]
  },
  {
   "cell_type": "code",
   "execution_count": null,
   "metadata": {
    "colab": {
     "base_uri": "https://localhost:8080/",
     "height": 35
    },
    "id": "LF1q9mWP-19B",
    "outputId": "90e2cc1f-4bab-4676-ecbf-e05fedde8b57",
    "slideshow": {
     "slide_type": "fragment"
    }
   },
   "outputs": [
    {
     "data": {
      "application/vnd.google.colaboratory.intrinsic+json": {
       "type": "string"
      },
      "text/plain": [
       "\"doesn't\""
      ]
     },
     "execution_count": 44,
     "metadata": {},
     "output_type": "execute_result"
    }
   ],
   "source": [
    "'doesn\\'t'  # use \\' to escape the single quote...\n",
    "\"doesn't\"  # ...or use double quotes instead"
   ]
  },
  {
   "cell_type": "markdown",
   "metadata": {
    "id": "cieqZynH_GMJ",
    "slideshow": {
     "slide_type": "fragment"
    }
   },
   "source": [
    "String literals can span multiple lines. "
   ]
  },
  {
   "cell_type": "code",
   "execution_count": null,
   "metadata": {
    "colab": {
     "base_uri": "https://localhost:8080/"
    },
    "id": "EFIC2iUw_HGO",
    "outputId": "82305b02-6625-42dd-892f-f692ed670db1",
    "slideshow": {
     "slide_type": "fragment"
    }
   },
   "outputs": [
    {
     "name": "stdout",
     "output_type": "stream",
     "text": [
      "Usage: thingy [OPTIONS]\n",
      "     -h                        Display this usage message\n",
      "     -H hostname               Hostname to connect to\n",
      "\n"
     ]
    }
   ],
   "source": [
    "print(\"\"\"\\\n",
    "Usage: thingy [OPTIONS]\n",
    "     -h                        Display this usage message\n",
    "     -H hostname               Hostname to connect to\n",
    "\"\"\")"
   ]
  },
  {
   "cell_type": "markdown",
   "metadata": {
    "id": "W7hxaz0J_ZCQ",
    "slideshow": {
     "slide_type": "fragment"
    }
   },
   "source": [
    "Strings can be concatenated (glued together) with the + operator, and repeated with *:"
   ]
  },
  {
   "cell_type": "code",
   "execution_count": null,
   "metadata": {
    "colab": {
     "base_uri": "https://localhost:8080/",
     "height": 35
    },
    "id": "c7rfTPe8_Zvp",
    "outputId": "b4194166-85d5-4ce7-a207-113675271fb6",
    "slideshow": {
     "slide_type": "fragment"
    }
   },
   "outputs": [
    {
     "data": {
      "application/vnd.google.colaboratory.intrinsic+json": {
       "type": "string"
      },
      "text/plain": [
       "'NaNaNaNaNaBatman'"
      ]
     },
     "execution_count": 46,
     "metadata": {},
     "output_type": "execute_result"
    }
   ],
   "source": [
    "5 * 'Na' + 'Batman' # 5 times 'Na', followed by 'Batman'"
   ]
  },
  {
   "cell_type": "markdown",
   "metadata": {
    "id": "p9nlukIgMGMI",
    "slideshow": {
     "slide_type": "slide"
    }
   },
   "source": [
    "### % formatting"
   ]
  },
  {
   "cell_type": "code",
   "execution_count": null,
   "metadata": {
    "colab": {
     "base_uri": "https://localhost:8080/"
    },
    "id": "wUEccTHFMkct",
    "outputId": "b17481ea-7c18-4617-a8e0-d90bfb1fb306",
    "slideshow": {
     "slide_type": "fragment"
    }
   },
   "outputs": [
    {
     "name": "stdout",
     "output_type": "stream",
     "text": [
      "hello 99.0\n",
      "hello 99.0 and 100\n",
      "hello 100 and 99.0\n"
     ]
    }
   ],
   "source": [
    "foo = 99.0\n",
    "bar = 100\n",
    "print(\"hello %s\" % foo)\n",
    "print(\"hello %s and %s\" % (foo, bar))\n",
    "print(\"hello %(bar)s and %(foo)s\" % {'foo': foo, 'bar': bar})"
   ]
  },
  {
   "cell_type": "markdown",
   "metadata": {
    "id": "rjKpN4Od3Uq-",
    "slideshow": {
     "slide_type": "slide"
    }
   },
   "source": [
    "### f-strings (String Literal)\n",
    "-\tConcise way of creating strings that contain data you would like to include\n",
    "-\tSimilar to a template that is filled in\n",
    "- Syntax relies on curly braces {} to specify variables"
   ]
  },
  {
   "cell_type": "code",
   "execution_count": null,
   "metadata": {
    "colab": {
     "base_uri": "https://localhost:8080/",
     "height": 35
    },
    "id": "PYg8axs1Lc2i",
    "outputId": "84efb67d-62e6-4432-8367-56a759d41440",
    "slideshow": {
     "slide_type": "fragment"
    }
   },
   "outputs": [
    {
     "data": {
      "application/vnd.google.colaboratory.intrinsic+json": {
       "type": "string"
      },
      "text/plain": [
       "\"foo is 99.0 and its type is <class 'float'>\""
      ]
     },
     "execution_count": 48,
     "metadata": {},
     "output_type": "execute_result"
    }
   ],
   "source": [
    "foo = 99.0\n",
    "f'''foo is {foo} and its type is {type(foo)}'''"
   ]
  },
  {
   "cell_type": "markdown",
   "metadata": {
    "id": "Unr-ssNvJWoG",
    "slideshow": {
     "slide_type": "slide"
    }
   },
   "source": [
    "# Data Structures"
   ]
  },
  {
   "cell_type": "markdown",
   "metadata": {
    "id": "cPz6MZyg3Rq4",
    "slideshow": {
     "slide_type": "slide"
    }
   },
   "source": [
    "## Tuples\n",
    "- Immutable, ordered sequence of objects\n",
    "- Can have duplicates\n",
    "- Can be indexed by number using the [ ] operator\n",
    "- Single element tuples must include a comma"
   ]
  },
  {
   "cell_type": "code",
   "execution_count": null,
   "metadata": {
    "colab": {
     "base_uri": "https://localhost:8080/"
    },
    "id": "sj6Iz4pZQcB2",
    "outputId": "428c95b4-74c1-4992-d7d6-32f1082dec5e",
    "slideshow": {
     "slide_type": "fragment"
    }
   },
   "outputs": [
    {
     "name": "stdout",
     "output_type": "stream",
     "text": [
      "4\n",
      "(4,)\n",
      "\u001b[1;31mTypeError : \u001b[1;31m'tuple' object does not support item assignment\u001b[0m\n"
     ]
    }
   ],
   "source": [
    "%%handle\n",
    "foo = (3, 4, 5 ,4)\n",
    "print(foo[1]) # == 4\n",
    "print((4, ))\n",
    "foo[3] = 2"
   ]
  },
  {
   "cell_type": "markdown",
   "metadata": {
    "id": "ynddv3Fr3f-S",
    "slideshow": {
     "slide_type": "slide"
    }
   },
   "source": [
    "## Lists\n",
    "- Mutable, ordered sequence of objects\n",
    "- Can have duplicates\n",
    "\n"
   ]
  },
  {
   "cell_type": "code",
   "execution_count": null,
   "metadata": {
    "id": "DBxlyneJFfiu",
    "slideshow": {
     "slide_type": "fragment"
    }
   },
   "outputs": [],
   "source": [
    "empty_list = []\n",
    "word_list = [\"the\", \"quick\", \"brown\", \"fox\"]\n",
    "mixed_list = [\"hello\", 42, 3.14, False]"
   ]
  },
  {
   "cell_type": "markdown",
   "metadata": {
    "id": "RjsOXOlZGfAz",
    "slideshow": {
     "slide_type": "fragment"
    }
   },
   "source": [
    "Test for the presence of a value with in keyword"
   ]
  },
  {
   "cell_type": "code",
   "execution_count": null,
   "metadata": {
    "colab": {
     "base_uri": "https://localhost:8080/"
    },
    "id": "_QpdMNULGgKX",
    "outputId": "18519e1c-1e74-49d4-8b15-67e84b6618b1",
    "slideshow": {
     "slide_type": "fragment"
    }
   },
   "outputs": [
    {
     "data": {
      "text/plain": [
       "True"
      ]
     },
     "execution_count": 52,
     "metadata": {},
     "output_type": "execute_result"
    }
   ],
   "source": [
    "\"the\" in word_list"
   ]
  },
  {
   "cell_type": "code",
   "execution_count": null,
   "metadata": {
    "colab": {
     "base_uri": "https://localhost:8080/"
    },
    "id": "90Bi1WhPSs4K",
    "outputId": "205e5a48-7140-4ab5-b06d-c6e0bbd91d31",
    "slideshow": {
     "slide_type": "fragment"
    }
   },
   "outputs": [
    {
     "data": {
      "text/plain": [
       "True"
      ]
     },
     "execution_count": 53,
     "metadata": {},
     "output_type": "execute_result"
    }
   ],
   "source": [
    "\"p\" not in word_list"
   ]
  },
  {
   "cell_type": "markdown",
   "metadata": {
    "id": "kQRbjzh2SV6T",
    "slideshow": {
     "slide_type": "slide"
    }
   },
   "source": [
    "### List Methods"
   ]
  },
  {
   "cell_type": "code",
   "execution_count": null,
   "metadata": {
    "colab": {
     "base_uri": "https://localhost:8080/",
     "height": 87
    },
    "id": "PzvTsd3OSZWz",
    "outputId": "c0dcef2c-f95e-4f3d-f920-776b88d467ab",
    "slideshow": {
     "slide_type": "fragment"
    }
   },
   "outputs": [
    {
     "data": {
      "application/vnd.google.colaboratory.intrinsic+json": {
       "type": "string"
      },
      "text/plain": [
       "\"['__add__', '__class__', '__contains__', '__delattr__', '__delitem__', '__dir__', '__doc__', '__eq__', '__format__', '__ge__', '__getattribute__', '__getitem__', '__gt__', '__hash__', '__iadd__', '__imul__', '__init__', '__init_subclass__', '__iter__', '__le__', '__len__', '__lt__', '__mul__', '__ne__', '__new__', '__reduce__', '__reduce_ex__', '__repr__', '__reversed__', '__rmul__', '__setattr__', '__setitem__', '__sizeof__', '__str__', '__subclasshook__', 'append', 'clear', 'copy', 'count', 'extend', 'index', 'insert', 'pop', 'remove', 'reverse', 'sort']\""
      ]
     },
     "execution_count": 54,
     "metadata": {},
     "output_type": "execute_result"
    }
   ],
   "source": [
    "str(dir([]))"
   ]
  },
  {
   "cell_type": "markdown",
   "metadata": {
    "id": "c0RZ8Fr9S81C",
    "slideshow": {
     "slide_type": "fragment"
    }
   },
   "source": [
    "### Built-in Functions\n",
    "- len\n",
    "- max\n",
    "- min\n",
    "- sum"
   ]
  },
  {
   "cell_type": "code",
   "execution_count": null,
   "metadata": {
    "colab": {
     "base_uri": "https://localhost:8080/"
    },
    "id": "-4eIjNXTTI81",
    "outputId": "c5ea31ac-d2ab-4be3-e065-f4f47145e96e",
    "slideshow": {
     "slide_type": "fragment"
    }
   },
   "outputs": [
    {
     "data": {
      "text/plain": [
       "(4, 8, 1, 17)"
      ]
     },
     "execution_count": 55,
     "metadata": {},
     "output_type": "execute_result"
    }
   ],
   "source": [
    "l = [3, 1, 5, 8]\n",
    "len(l), max(l), min(l), sum(l)"
   ]
  },
  {
   "cell_type": "markdown",
   "metadata": {
    "id": "4hI3wJvfF6wH",
    "slideshow": {
     "slide_type": "slide"
    }
   },
   "source": [
    "## Slicing Lists, Tuples and Strings\n",
    "\n",
    "- [start:end:increment]\n",
    "- values can be negative\n",
    "- end is excluded"
   ]
  },
  {
   "cell_type": "markdown",
   "metadata": {
    "id": "lmbH_eOaA96i",
    "slideshow": {
     "slide_type": "fragment"
    }
   },
   "source": [
    "```\n",
    " +---+---+---+---+---+---+\n",
    " | P | y | t | h | o | n |\n",
    " +---+---+---+---+---+---+\n",
    " 0   1   2   3   4   5   6\n",
    "-6  -5  -4  -3  -2  -1\n",
    "```"
   ]
  },
  {
   "cell_type": "code",
   "execution_count": null,
   "metadata": {
    "colab": {
     "base_uri": "https://localhost:8080/"
    },
    "id": "HeUz3QfgAZZP",
    "outputId": "b96b7c8b-28f3-4847-ba81-503b23f5d8ba",
    "slideshow": {
     "slide_type": "fragment"
    }
   },
   "outputs": [
    {
     "data": {
      "text/plain": [
       "6"
      ]
     },
     "execution_count": 56,
     "metadata": {},
     "output_type": "execute_result"
    }
   ],
   "source": [
    "word_list = list('Python')\n",
    "len(word_list)"
   ]
  },
  {
   "cell_type": "code",
   "execution_count": null,
   "metadata": {
    "colab": {
     "base_uri": "https://localhost:8080/",
     "height": 35
    },
    "id": "ZkmaBxpv_xc4",
    "outputId": "80a0ae9f-9a8c-4aea-b2cc-11e8b01e5b93",
    "slideshow": {
     "slide_type": "fragment"
    }
   },
   "outputs": [
    {
     "data": {
      "application/vnd.google.colaboratory.intrinsic+json": {
       "type": "string"
      },
      "text/plain": [
       "'y'"
      ]
     },
     "execution_count": 57,
     "metadata": {},
     "output_type": "execute_result"
    }
   ],
   "source": [
    "word_list[1] # item at position 1"
   ]
  },
  {
   "cell_type": "code",
   "execution_count": null,
   "metadata": {
    "colab": {
     "base_uri": "https://localhost:8080/"
    },
    "id": "3x-BVZzSADYw",
    "outputId": "bf9ebb76-d1c3-4249-a675-11b4bcea6c60",
    "slideshow": {
     "slide_type": "fragment"
    }
   },
   "outputs": [
    {
     "data": {
      "text/plain": [
       "['t', 'h']"
      ]
     },
     "execution_count": 58,
     "metadata": {},
     "output_type": "execute_result"
    }
   ],
   "source": [
    "word_list[2:4] # items from position 2 (included) to 4 (excluded)"
   ]
  },
  {
   "cell_type": "code",
   "execution_count": null,
   "metadata": {
    "colab": {
     "base_uri": "https://localhost:8080/"
    },
    "id": "JaTXJIds_3N7",
    "outputId": "85d5cf68-2a4a-45a5-a29e-3ed78b151042",
    "slideshow": {
     "slide_type": "subslide"
    }
   },
   "outputs": [
    {
     "data": {
      "text/plain": [
       "['y', 't', 'h', 'o', 'n']"
      ]
     },
     "execution_count": 59,
     "metadata": {},
     "output_type": "execute_result"
    }
   ],
   "source": [
    "word_list[1:] # items from position 1 (included) to the end"
   ]
  },
  {
   "cell_type": "code",
   "execution_count": null,
   "metadata": {
    "colab": {
     "base_uri": "https://localhost:8080/"
    },
    "id": "yYHrJlwSABjn",
    "outputId": "f97ffc1c-bdab-4f91-a776-03ef94392af8",
    "slideshow": {
     "slide_type": "fragment"
    }
   },
   "outputs": [
    {
     "data": {
      "text/plain": [
       "['P', 'y']"
      ]
     },
     "execution_count": 60,
     "metadata": {},
     "output_type": "execute_result"
    }
   ],
   "source": [
    "word_list[:2] # items from the beginning to position 2 (excluded)"
   ]
  },
  {
   "cell_type": "code",
   "execution_count": null,
   "metadata": {
    "colab": {
     "base_uri": "https://localhost:8080/"
    },
    "id": "F_aXfOh4Vjcp",
    "outputId": "77d255ae-c733-48fd-f5a5-d1639cb8b5ed",
    "slideshow": {
     "slide_type": "fragment"
    }
   },
   "outputs": [
    {
     "data": {
      "text/plain": [
       "['P', 'y', 't', 'h', 'o', 'n']"
      ]
     },
     "execution_count": 61,
     "metadata": {},
     "output_type": "execute_result"
    }
   ],
   "source": [
    "word_list[:] # clone list"
   ]
  },
  {
   "cell_type": "code",
   "execution_count": null,
   "metadata": {
    "colab": {
     "base_uri": "https://localhost:8080/"
    },
    "id": "BQH_9hiuF8Z4",
    "outputId": "cb4bef6d-502e-4501-f7c1-639b74f58993",
    "slideshow": {
     "slide_type": "fragment"
    }
   },
   "outputs": [
    {
     "data": {
      "text/plain": [
       "['P', 'y', 't', 'h']"
      ]
     },
     "execution_count": 62,
     "metadata": {},
     "output_type": "execute_result"
    }
   ],
   "source": [
    "word_list[:-2] # from beginning to second last position (excluded)"
   ]
  },
  {
   "cell_type": "code",
   "execution_count": null,
   "metadata": {
    "colab": {
     "base_uri": "https://localhost:8080/"
    },
    "id": "WTIxLAvDVpXl",
    "outputId": "73934b62-66e6-40a1-a04b-86ae8cf8e569",
    "slideshow": {
     "slide_type": "fragment"
    }
   },
   "outputs": [
    {
     "data": {
      "text/plain": [
       "['P', 't', 'o']"
      ]
     },
     "execution_count": 63,
     "metadata": {},
     "output_type": "execute_result"
    }
   ],
   "source": [
    "word_list[::2] # Skip every second letter"
   ]
  },
  {
   "cell_type": "code",
   "execution_count": null,
   "metadata": {
    "colab": {
     "base_uri": "https://localhost:8080/"
    },
    "id": "gMmvxulGVpQG",
    "outputId": "6f0afa2f-ad51-4e6a-e1c7-ef416b53b332",
    "slideshow": {
     "slide_type": "fragment"
    }
   },
   "outputs": [
    {
     "data": {
      "text/plain": [
       "['n', 'o', 'h', 't', 'y', 'P']"
      ]
     },
     "execution_count": 64,
     "metadata": {},
     "output_type": "execute_result"
    }
   ],
   "source": [
    "word_list[::-1] # start from 0 but go from left to right"
   ]
  },
  {
   "cell_type": "markdown",
   "metadata": {
    "id": "oSs10eCU3lBt",
    "slideshow": {
     "slide_type": "slide"
    }
   },
   "source": [
    "## Dictionnaries\n",
    "- Mutable associative array storing key:valuepairs\n",
    "-\tKeys must be unique and immutable\n",
    "  -\tBoolean, integer, float, tuple, string\n",
    "- Test for membership with in\n"
   ]
  },
  {
   "cell_type": "code",
   "execution_count": null,
   "metadata": {
    "colab": {
     "base_uri": "https://localhost:8080/"
    },
    "id": "5sZgC6JEU0XK",
    "outputId": "2bdb47ce-d67d-4d07-bf89-07fe636974ac",
    "slideshow": {
     "slide_type": "fragment"
    }
   },
   "outputs": [
    {
     "data": {
      "text/plain": [
       "{'jack': 4098, 'sape': 4139, 'guido': 4127}"
      ]
     },
     "execution_count": 65,
     "metadata": {},
     "output_type": "execute_result"
    }
   ],
   "source": [
    "tel = {'jack': 4098, 'sape': 4139}\n",
    "tel['guido'] = 4127\n",
    "tel"
   ]
  },
  {
   "cell_type": "code",
   "execution_count": null,
   "metadata": {
    "colab": {
     "base_uri": "https://localhost:8080/"
    },
    "id": "OP_5udC-U4ga",
    "outputId": "226ade62-31b7-4c13-aafa-8c79d643aa51",
    "slideshow": {
     "slide_type": "fragment"
    }
   },
   "outputs": [
    {
     "data": {
      "text/plain": [
       "{'jack': 4098, 'guido': 4127}"
      ]
     },
     "execution_count": 66,
     "metadata": {},
     "output_type": "execute_result"
    }
   ],
   "source": [
    "del tel['sape']\n",
    "tel"
   ]
  },
  {
   "cell_type": "code",
   "execution_count": null,
   "metadata": {
    "colab": {
     "base_uri": "https://localhost:8080/"
    },
    "id": "xcYctRiQU8gN",
    "outputId": "64c2cb4c-0100-4392-e0c9-499fc6628bcd",
    "slideshow": {
     "slide_type": "fragment"
    }
   },
   "outputs": [
    {
     "name": "stdout",
     "output_type": "stream",
     "text": [
      "\u001b[1;31mKeyError : \u001b[1;31m'sape'\u001b[0m\n"
     ]
    }
   ],
   "source": [
    "%%handle\n",
    "tel['sape']   # KeyError"
   ]
  },
  {
   "cell_type": "code",
   "execution_count": null,
   "metadata": {
    "colab": {
     "base_uri": "https://localhost:8080/"
    },
    "id": "M0dPUmlAVCQW",
    "outputId": "cfff7cdd-625f-4868-beff-434b07938323",
    "slideshow": {
     "slide_type": "fragment"
    }
   },
   "outputs": [
    {
     "data": {
      "text/plain": [
       "dict_items([('jack', 4098), ('guido', 4127)])"
      ]
     },
     "execution_count": 69,
     "metadata": {},
     "output_type": "execute_result"
    }
   ],
   "source": [
    "tel.keys()    # ['jack', 'guido']\n",
    "tel.values()  # [4098, 4127]\n",
    "tel.items()   # [('jack', 4098), ('guido', 4127)]"
   ]
  },
  {
   "cell_type": "markdown",
   "metadata": {
    "id": "9ZEIyV4O_c4a",
    "slideshow": {
     "slide_type": "slide"
    }
   },
   "source": [
    "## Sets\n",
    "- unordered collection with no duplicate elements\n",
    "- Curly braces or the `set()`\n",
    "- To create an empty set you have to use `set()`\n"
   ]
  },
  {
   "cell_type": "code",
   "execution_count": null,
   "metadata": {
    "colab": {
     "base_uri": "https://localhost:8080/"
    },
    "id": "tcKr0lH7Ra48",
    "outputId": "f4c62757-c3f1-4858-e671-13f293b41f6a",
    "slideshow": {
     "slide_type": "fragment"
    }
   },
   "outputs": [
    {
     "data": {
      "text/plain": [
       "True"
      ]
     },
     "execution_count": 70,
     "metadata": {},
     "output_type": "execute_result"
    }
   ],
   "source": [
    "basket = {'apple', 'orange', 'apple', 'pear', 'orange', 'banana'}\n",
    "'orange' in basket"
   ]
  },
  {
   "cell_type": "code",
   "execution_count": null,
   "metadata": {
    "colab": {
     "base_uri": "https://localhost:8080/"
    },
    "id": "a6_yF5hGRkWQ",
    "outputId": "44ed0db2-e4fd-47c8-9cc7-0abf9cd8b9ef",
    "slideshow": {
     "slide_type": "fragment"
    }
   },
   "outputs": [
    {
     "data": {
      "text/plain": [
       "{'a', 'b', 'c', 'd', 'r'}"
      ]
     },
     "execution_count": 71,
     "metadata": {},
     "output_type": "execute_result"
    }
   ],
   "source": [
    "a = set('abracadabra')\n",
    "b = set ('alacazam')\n",
    "a # unique letters in a"
   ]
  },
  {
   "cell_type": "code",
   "execution_count": null,
   "metadata": {
    "colab": {
     "base_uri": "https://localhost:8080/"
    },
    "id": "9SBDlm0URugF",
    "outputId": "d19203c5-34de-422b-9b00-e471f94a75e4",
    "slideshow": {
     "slide_type": "fragment"
    }
   },
   "outputs": [
    {
     "data": {
      "text/plain": [
       "{'b', 'd', 'r'}"
      ]
     },
     "execution_count": 72,
     "metadata": {},
     "output_type": "execute_result"
    }
   ],
   "source": [
    "a - b                              # letters in a but not in b"
   ]
  },
  {
   "cell_type": "code",
   "execution_count": null,
   "metadata": {
    "id": "eJKX3qWyR3zi",
    "slideshow": {
     "slide_type": "fragment"
    }
   },
   "outputs": [],
   "source": []
  },
  {
   "cell_type": "code",
   "execution_count": null,
   "metadata": {
    "colab": {
     "base_uri": "https://localhost:8080/"
    },
    "id": "5Xa3H-qCR3pU",
    "outputId": "cc813316-594d-435d-81a2-e4a63541abfb",
    "slideshow": {
     "slide_type": "fragment"
    }
   },
   "outputs": [
    {
     "data": {
      "text/plain": [
       "{'a', 'b', 'c', 'd', 'l', 'm', 'r', 'z'}"
      ]
     },
     "execution_count": 73,
     "metadata": {},
     "output_type": "execute_result"
    }
   ],
   "source": [
    "a | b                              # letters in a or b or both"
   ]
  },
  {
   "cell_type": "code",
   "execution_count": null,
   "metadata": {
    "colab": {
     "base_uri": "https://localhost:8080/"
    },
    "id": "yg_7fXYgR60G",
    "outputId": "26533011-cab8-4779-a204-efbac40b0df7",
    "slideshow": {
     "slide_type": "fragment"
    }
   },
   "outputs": [
    {
     "data": {
      "text/plain": [
       "{'a', 'c'}"
      ]
     },
     "execution_count": 74,
     "metadata": {},
     "output_type": "execute_result"
    }
   ],
   "source": [
    "a & b                              # letters in both a and b"
   ]
  },
  {
   "cell_type": "code",
   "execution_count": null,
   "metadata": {
    "colab": {
     "base_uri": "https://localhost:8080/"
    },
    "id": "DFz6HcvtR-Yi",
    "outputId": "ffffc3e6-70e2-4b62-9b14-5a0517332f86",
    "slideshow": {
     "slide_type": "fragment"
    }
   },
   "outputs": [
    {
     "data": {
      "text/plain": [
       "{'b', 'd', 'l', 'm', 'r', 'z'}"
      ]
     },
     "execution_count": 75,
     "metadata": {},
     "output_type": "execute_result"
    }
   ],
   "source": [
    "a ^ b                              # letters in a or b but not both"
   ]
  },
  {
   "cell_type": "markdown",
   "metadata": {
    "id": "1JCVMYiJTnXX",
    "slideshow": {
     "slide_type": "slide"
    }
   },
   "source": [
    "## Collections\n",
    "\n",
    "https://docs.python.org/3.11/library/collections.html"
   ]
  },
  {
   "cell_type": "markdown",
   "metadata": {
    "id": "sPy57gCM5nL4",
    "slideshow": {
     "slide_type": "slide"
    }
   },
   "source": [
    "# Control Flow\n",
    "\n",
    "- Indentation is IMPORTANT! And use ONLY SPACES!! DO NOT MIX WITH TABS!!!\n",
    "- Increase indent indent after an if statement or for statement (after : )\n",
    "- Maintain indent to indicate the scope of the block (which lines are affected by the if/for)\n",
    "- Reduce indent back to the level of the if statement or for statement to indicate the end of the block\n",
    "- Blank lines are ignored - they do not affect indentation\n",
    "- Comments on a line by themselves are ignored with regard to indentation\n",
    "\n",
    "\n",
    "condition\n",
    "loop\n",
    "\n",
    "cond ? a : b\ta if cond else b"
   ]
  },
  {
   "cell_type": "markdown",
   "metadata": {
    "id": "2g4ers8jBJ_H",
    "slideshow": {
     "slide_type": "slide"
    }
   },
   "source": [
    "## Conditions\n",
    "\n",
    "### IF"
   ]
  },
  {
   "cell_type": "code",
   "execution_count": null,
   "metadata": {
    "colab": {
     "base_uri": "https://localhost:8080/"
    },
    "id": "L8PqkIi5DGC7",
    "outputId": "c2450ee7-0f40-419f-8fc4-c9a2dfeacb49",
    "slideshow": {
     "slide_type": "fragment"
    }
   },
   "outputs": [
    {
     "name": "stdout",
     "output_type": "stream",
     "text": [
      "LARGE\n",
      "All done\n"
     ]
    }
   ],
   "source": [
    "x = 12\n",
    "if x < 2 :\n",
    "    print('small')\n",
    "elif x < 10 :\n",
    "    print('Medium')\n",
    "else :\n",
    "    print('LARGE')\n",
    "print('All done')\n"
   ]
  },
  {
   "cell_type": "markdown",
   "metadata": {
    "id": "mk0Wasl-YdAJ",
    "slideshow": {
     "slide_type": "slide"
    }
   },
   "source": [
    "### Ternary Operators\n",
    "\n",
    "value_if_true if condition else value_if_false"
   ]
  },
  {
   "cell_type": "code",
   "execution_count": null,
   "metadata": {
    "colab": {
     "base_uri": "https://localhost:8080/",
     "height": 35
    },
    "id": "4nVyLQpVYU5L",
    "outputId": "deecc12c-7568-4067-a1b0-5fc5b751198f",
    "slideshow": {
     "slide_type": "fragment"
    }
   },
   "outputs": [
    {
     "data": {
      "application/vnd.google.colaboratory.intrinsic+json": {
       "type": "string"
      },
      "text/plain": [
       "'LARGE'"
      ]
     },
     "execution_count": 77,
     "metadata": {},
     "output_type": "execute_result"
    }
   ],
   "source": [
    "result = 'LARGE' if x >= 10 else 'small'\n",
    "result"
   ]
  },
  {
   "cell_type": "markdown",
   "metadata": {
    "id": "vHKruYV_BSDz",
    "slideshow": {
     "slide_type": "slide"
    }
   },
   "source": [
    "## Loops\n",
    "\n",
    "- type of loops: for or while\n",
    "- exit loop: break or continue\n",
    "- (or return from a function)\n"
   ]
  },
  {
   "cell_type": "markdown",
   "metadata": {
    "id": "l68nTjPU-2TV",
    "slideshow": {
     "slide_type": "slide"
    }
   },
   "source": [
    "### For - Definite Iteration"
   ]
  },
  {
   "cell_type": "code",
   "execution_count": null,
   "metadata": {
    "colab": {
     "base_uri": "https://localhost:8080/"
    },
    "id": "TIA8A-TQZisY",
    "outputId": "b8f1bc38-5507-42ed-a94a-5de944ef5b2b",
    "slideshow": {
     "slide_type": "fragment"
    }
   },
   "outputs": [
    {
     "data": {
      "text/plain": [
       "{'Bob': 2, 'Alice': 3, 'Charles': 1}"
      ]
     },
     "execution_count": 78,
     "metadata": {},
     "output_type": "execute_result"
    }
   ],
   "source": [
    "names = ['Bob', 'Alice', 'Charles', 'Alice', 'Bob', 'Alice']\n",
    "counts = {}\n",
    "for name in names:\n",
    "    if name not in counts:\n",
    "        counts[name] = 0\n",
    "    counts[name] += 1\n",
    "counts"
   ]
  },
  {
   "cell_type": "markdown",
   "metadata": {
    "id": "xxsg4QtQZLk4",
    "slideshow": {
     "slide_type": "slide"
    }
   },
   "source": [
    "### While - Indefinite Iteration"
   ]
  },
  {
   "cell_type": "code",
   "execution_count": null,
   "metadata": {
    "colab": {
     "base_uri": "https://localhost:8080/"
    },
    "id": "BbNA1d1QC1hD",
    "outputId": "41988b2a-cd5f-4674-c161-30cb46e0d4bb",
    "slideshow": {
     "slide_type": "fragment"
    }
   },
   "outputs": [
    {
     "name": "stdout",
     "output_type": "stream",
     "text": [
      "0,1,1,2,3,5,8,13,21,34,55,89,"
     ]
    }
   ],
   "source": [
    "# Fibonacci series:\n",
    "# the sum of two elements defines the next\n",
    "a, b = 0, 1\n",
    "while a < 100 :\n",
    "    print(a, end=',')\n",
    "    a, b = b, a+b\n"
   ]
  },
  {
   "cell_type": "markdown",
   "metadata": {
    "id": "ZYGbnVx7JjdM",
    "slideshow": {
     "slide_type": "slide"
    }
   },
   "source": [
    "# Comprehensions\n",
    "\n",
    "- A combination of an expression, an iterable, and potentially a conditional that returns a new compound or composite data type\n",
    "\n",
    "- Instead of bringing data to the code of a forloop…\n",
    "- We bring the code of a forloop to the data\n"
   ]
  },
  {
   "cell_type": "code",
   "execution_count": null,
   "metadata": {
    "colab": {
     "base_uri": "https://localhost:8080/"
    },
    "id": "kGP918-03igx",
    "outputId": "c857d4aa-e8c8-47da-b263-57b107ec8da7",
    "slideshow": {
     "slide_type": "fragment"
    }
   },
   "outputs": [
    {
     "data": {
      "text/plain": [
       "[0, 1, 2, 3, 4, 5, 6, 7, 8, 9]"
      ]
     },
     "execution_count": 80,
     "metadata": {},
     "output_type": "execute_result"
    }
   ],
   "source": [
    "nums = range(10)\n",
    "list(nums)"
   ]
  },
  {
   "cell_type": "code",
   "execution_count": null,
   "metadata": {
    "colab": {
     "base_uri": "https://localhost:8080/"
    },
    "id": "shZU24Dsa8ra",
    "outputId": "bb30f900-34fc-4d1e-a14d-9b9f0e9ad749",
    "slideshow": {
     "slide_type": "fragment"
    }
   },
   "outputs": [
    {
     "data": {
      "text/plain": [
       "[0, 1, 4, 9, 16, 25, 36, 49, 64, 81]"
      ]
     },
     "execution_count": 81,
     "metadata": {},
     "output_type": "execute_result"
    }
   ],
   "source": [
    "squares = [x**2 for x in range(10)]\n",
    "squares"
   ]
  },
  {
   "cell_type": "markdown",
   "metadata": {
    "id": "S35Xh26YJpRc",
    "slideshow": {
     "slide_type": "slide"
    }
   },
   "source": [
    "# Functions\n",
    "\n",
    "Positional arguments are bound to parameters based on their position in the function call (as with many languages)\n",
    "\n",
    "-\tKeyword arguments (kwargs) allow us to label each argument passed to the function with the name of the parameter variable.\n",
    "-\tOrder no longer matters\n",
    "- arguments can have a default value"
   ]
  },
  {
   "cell_type": "code",
   "execution_count": null,
   "metadata": {
    "colab": {
     "base_uri": "https://localhost:8080/"
    },
    "id": "9yhMWfAHbnzm",
    "outputId": "2274707b-4a93-44b3-99b1-c57f7470ab61",
    "slideshow": {
     "slide_type": "fragment"
    }
   },
   "outputs": [
    {
     "name": "stdout",
     "output_type": "stream",
     "text": [
      "7\n"
     ]
    }
   ],
   "source": [
    "def add_two(a, b):\n",
    "    total = a + b\n",
    "    return total\n",
    "\n",
    "x = add_two(3, 4)\n",
    "print(x)"
   ]
  },
  {
   "cell_type": "code",
   "execution_count": null,
   "metadata": {
    "colab": {
     "base_uri": "https://localhost:8080/"
    },
    "id": "mskyTma7cLdv",
    "outputId": "79c71d6f-afb4-4f49-e171-c3357b613f81",
    "slideshow": {
     "slide_type": "fragment"
    }
   },
   "outputs": [
    {
     "name": "stdout",
     "output_type": "stream",
     "text": [
      "2 4\n",
      "2**3 8\n",
      "2**4 16\n",
      "2**4 16\n"
     ]
    }
   ],
   "source": [
    "def power(a, pow=2):\n",
    "    total = a ** pow\n",
    "    return total\n",
    "\n",
    "print(\"2\", power(2))\n",
    "print(\"2**3\", power(2, 3))\n",
    "print(\"2**4\", power(2, pow=4))\n",
    "print(\"2**4\", power(pow=4, a=2))"
   ]
  },
  {
   "cell_type": "markdown",
   "metadata": {
    "id": "6QkAV2c5HxSU",
    "slideshow": {
     "slide_type": "slide"
    }
   },
   "source": [
    "## Docstrings\n",
    "\n",
    "-\tA string at the beginning of a function’s body can be pulled out as documentation\n",
    "-\tBest practice for any non-trivial function\n",
    "\n",
    "help()"
   ]
  },
  {
   "cell_type": "code",
   "execution_count": null,
   "metadata": {
    "colab": {
     "base_uri": "https://localhost:8080/"
    },
    "id": "57w3t6CVbobq",
    "outputId": "f49910fc-1a29-4086-aa25-7a5463f59841",
    "slideshow": {
     "slide_type": "fragment"
    }
   },
   "outputs": [
    {
     "name": "stdout",
     "output_type": "stream",
     "text": [
      "Help on function square in module __main__:\n",
      "\n",
      "square(n)\n",
      "    Takes in a number n, returns the square of n\n",
      "        Parameters:\n",
      "              n (number)\n",
      "    \n",
      "        Returns:\n",
      "              square (numbre)\n",
      "\n"
     ]
    }
   ],
   "source": [
    "def square(n):\n",
    "    \"\"\"\n",
    "    Takes in a number n, returns the square of n\n",
    "        Parameters:\n",
    "              n (number)\n",
    "\n",
    "        Returns:\n",
    "              square (numbre)\n",
    "    \"\"\"\n",
    "    return n**2\n",
    "help(square)"
   ]
  },
  {
   "cell_type": "markdown",
   "metadata": {
    "id": "kftADKvIIAHY",
    "slideshow": {
     "slide_type": "slide"
    }
   },
   "source": [
    "## Nested Functions\n",
    "\n",
    "Allows you to locally scope a function to avoid namespace pollution"
   ]
  },
  {
   "cell_type": "code",
   "execution_count": null,
   "metadata": {
    "colab": {
     "base_uri": "https://localhost:8080/"
    },
    "id": "SSGos0ne8M1-",
    "outputId": "dfd6c2bd-bf53-4a2a-cb54-23720924d9f1",
    "slideshow": {
     "slide_type": "fragment"
    }
   },
   "outputs": [
    {
     "name": "stdout",
     "output_type": "stream",
     "text": [
      "\u001b[1;31mNameError : \u001b[1;31mname 'inner' is not defined\u001b[0m\n"
     ]
    }
   ],
   "source": [
    "%%handle\n",
    "def outer(a):\n",
    "    mod = 3\n",
    "    def inner(b):\n",
    "        return a*2 % mod\n",
    "    \n",
    "    return inner(a)\n",
    "inner\n"
   ]
  },
  {
   "cell_type": "markdown",
   "metadata": {
    "id": "UvCf0XigIMzg",
    "slideshow": {
     "slide_type": "slide"
    }
   },
   "source": [
    "## Decorators\n",
    "A decorator is a function that takes one function, as an input and returns a wrapped version of it\n",
    "\n"
   ]
  },
  {
   "cell_type": "code",
   "execution_count": null,
   "metadata": {
    "colab": {
     "base_uri": "https://localhost:8080/"
    },
    "id": "qJHS6aUxIMWW",
    "outputId": "3b24f21c-ef1f-4dc9-f904-2af4f40fdf2d",
    "slideshow": {
     "slide_type": "fragment"
    }
   },
   "outputs": [
    {
     "name": "stdout",
     "output_type": "stream",
     "text": [
      "Running function: add_ints\n",
      "Positional arguments: (3, 5)\n",
      "Keyword arguments: {}\n",
      "Result: 8\n"
     ]
    },
    {
     "data": {
      "text/plain": [
       "8"
      ]
     },
     "execution_count": 87,
     "metadata": {},
     "output_type": "execute_result"
    }
   ],
   "source": [
    "def document_it(func):\n",
    "    def new_function(*args, **kwargs):\n",
    "        print('Running function:', func.__name__)\n",
    "        print('Positional arguments:', args)\n",
    "        print('Keyword arguments:', kwargs)\n",
    "        result = func(*args, **kwargs)\n",
    "        print('Result:', result)\n",
    "        return result\n",
    "    return new_function\n",
    "\n",
    "def add_ints(a,b):\n",
    "    return a + b\n",
    "\n",
    "decorated_add_ints = document_it(add_ints)\n",
    "decorated_add_ints(3,5)"
   ]
  },
  {
   "cell_type": "markdown",
   "metadata": {
    "id": "JuEHbqJEIpIw",
    "slideshow": {
     "slide_type": "slide"
    }
   },
   "source": [
    "Decorators have special syntax (@)\n",
    "\n",
    "Can be used when a function is defined where you only want the decorated version\n",
    "\n"
   ]
  },
  {
   "cell_type": "code",
   "execution_count": null,
   "metadata": {
    "colab": {
     "base_uri": "https://localhost:8080/"
    },
    "id": "ZQCCXnkQItRM",
    "outputId": "2fc91ad3-f620-4e37-970a-b62ca26e62fb",
    "slideshow": {
     "slide_type": "fragment"
    }
   },
   "outputs": [
    {
     "name": "stdout",
     "output_type": "stream",
     "text": [
      "Running function: add_ints\n",
      "Positional arguments: (3, 5)\n",
      "Keyword arguments: {}\n",
      "Result: 8\n"
     ]
    },
    {
     "data": {
      "text/plain": [
       "8"
      ]
     },
     "execution_count": 88,
     "metadata": {},
     "output_type": "execute_result"
    }
   ],
   "source": [
    "@document_it\n",
    "def add_ints(a,b):\n",
    "     return a + b\n",
    "add_ints(3,5)"
   ]
  },
  {
   "cell_type": "markdown",
   "metadata": {
    "id": "z2mWEGC0I4VF",
    "slideshow": {
     "slide_type": "slide"
    }
   },
   "source": [
    "- Often used when you have operations that must be run upon every invocation of a function\n",
    "-\tRepeated setup and teardown procedures\n",
    "-\tTiming performance and instrumentation\n",
    "-\tChecking argument types (assertions)\n",
    "-\tConcurrency management (ensuring locks obtained)\n",
    "-\tEnsuring only authenticated access\n",
    "-\t@login_required \n",
    "-\tPython/Flask route definitions\n"
   ]
  },
  {
   "cell_type": "markdown",
   "metadata": {
    "id": "FE5E5RmlL6hC",
    "slideshow": {
     "slide_type": "slide"
    }
   },
   "source": [
    "## Lambda - Anonymous Functions\n"
   ]
  },
  {
   "cell_type": "code",
   "execution_count": null,
   "metadata": {
    "colab": {
     "base_uri": "https://localhost:8080/"
    },
    "id": "Xxug6UgteDia",
    "outputId": "239d3980-bbc2-4f9f-de5b-a68b1e32ac31",
    "slideshow": {
     "slide_type": "fragment"
    }
   },
   "outputs": [
    {
     "data": {
      "text/plain": [
       "6"
      ]
     },
     "execution_count": 89,
     "metadata": {},
     "output_type": "execute_result"
    }
   ],
   "source": [
    "add_three = lambda a, b, c: a + b + c\n",
    "add_three(1,2,3)"
   ]
  },
  {
   "cell_type": "code",
   "execution_count": null,
   "metadata": {
    "colab": {
     "base_uri": "https://localhost:8080/"
    },
    "id": "Qf5rudvLeYBK",
    "outputId": "dd559542-de6c-4732-8fd9-3e49b6d8262c",
    "slideshow": {
     "slide_type": "fragment"
    }
   },
   "outputs": [
    {
     "data": {
      "text/plain": [
       "[100, 4, 64, 49, 25, 16, 121]"
      ]
     },
     "execution_count": 90,
     "metadata": {},
     "output_type": "execute_result"
    }
   ],
   "source": [
    "sequences = [10,2,8,7,5,4,11]\n",
    "squared_result = map (lambda x: x*x, sequences) \n",
    "list(squared_result)"
   ]
  },
  {
   "cell_type": "markdown",
   "metadata": {
    "id": "moYh-nksJuEu",
    "slideshow": {
     "slide_type": "slide"
    }
   },
   "source": [
    "# Modules, Packages\n"
   ]
  },
  {
   "cell_type": "markdown",
   "metadata": {
    "id": "krGLnmpuJlX2",
    "slideshow": {
     "slide_type": "fragment"
    }
   },
   "source": [
    "Importing code from packages\n",
    "\n",
    "-\tfrom and import keywords\n",
    "-\tInserts library code into namespace of execution environment\n",
    "\n",
    "Import a specific function\n",
    "\n",
    "Import the package and use the package name as a prefix for each function call\n",
    "\n",
    "Import the package with an alias"
   ]
  },
  {
   "cell_type": "code",
   "execution_count": null,
   "metadata": {
    "id": "MyyIwX2r_1gY",
    "slideshow": {
     "slide_type": "slide"
    }
   },
   "outputs": [],
   "source": [
    "# Fibonacci numbers module\n",
    "\n",
    "def fib(n):    # write Fibonacci series up to n\n",
    "    a, b = 0, 1\n",
    "    while a < n:\n",
    "        print(a, end=' ')\n",
    "        a, b = b, a+b\n",
    "    print()\n",
    "\n",
    "def fib2(n):   # return Fibonacci series up to n\n",
    "    result = []\n",
    "    a, b = 0, 1\n",
    "    while a < n:\n",
    "        result.append(a)\n",
    "        a, b = b, a+b\n",
    "    return result"
   ]
  },
  {
   "cell_type": "code",
   "execution_count": null,
   "metadata": {
    "colab": {
     "base_uri": "https://localhost:8080/"
    },
    "id": "77D4en11_t4Y",
    "outputId": "80d41a1b-793a-4272-b40d-b2c27b55dee4",
    "slideshow": {
     "slide_type": "fragment"
    }
   },
   "outputs": [
    {
     "name": "stdout",
     "output_type": "stream",
     "text": [
      "\u001b[1;31mModuleNotFoundError : \u001b[1;31mNo module named 'fibo'\u001b[0m\n"
     ]
    }
   ],
   "source": [
    "%%handle\n",
    "import fibo\n",
    "fibo.fib(1000)\n",
    "from fibo import fib, fib2\n",
    "fib(1000)\n",
    "import fibo as fib\n",
    "fib.fib(1000)\n",
    "from fibo import fib as fibonacci\n",
    "fibonacci(1000)"
   ]
  },
  {
   "cell_type": "markdown",
   "metadata": {
    "id": "dB9NUmB6Jxgb",
    "slideshow": {
     "slide_type": "slide"
    }
   },
   "source": [
    "Make packages from your own modules\n",
    "-\tA module is a Python file containing functions or classes\n",
    "-\tA package is a collection of modules in a single directory\n",
    "-\tPython identifies a directory as a package if it includes a `__init__.py` file\n",
    "-\tContents executed when imported into a program (initialization code for package)\n",
    "-\tModules in a package can import other modules in the same package\n",
    "- Packages can import other packages"
   ]
  },
  {
   "cell_type": "code",
   "execution_count": null,
   "metadata": {
    "colab": {
     "base_uri": "https://localhost:8080/"
    },
    "id": "3LsNyVhGAzL2",
    "outputId": "ab8c8884-9332-4612-c3f3-3e30d67237f8",
    "slideshow": {
     "slide_type": "fragment"
    }
   },
   "outputs": [
    {
     "name": "stdout",
     "output_type": "stream",
     "text": [
      "\u001b[1;31mModuleNotFoundError : \u001b[1;31mNo module named 'sound'\u001b[0m\n"
     ]
    }
   ],
   "source": [
    "%%handle\n",
    "import sound.effects.echo\n",
    "sound.effects.echo.echofilter(input, output, delay=0.7, atten=4)\n",
    "# relative imports\n",
    "from .. import formats\n",
    "from ..filters import equalizer"
   ]
  },
  {
   "cell_type": "markdown",
   "metadata": {
    "id": "zxC5FxKP8VFM",
    "slideshow": {
     "slide_type": "slide"
    }
   },
   "source": [
    "## Executing modules as scripts\n",
    "`python fibo.py <arguments>`"
   ]
  },
  {
   "cell_type": "code",
   "execution_count": null,
   "metadata": {
    "colab": {
     "base_uri": "https://localhost:8080/"
    },
    "id": "qz7e78oDAPwf",
    "outputId": "abfdd447-0849-4ba1-a194-d260249a879b",
    "slideshow": {
     "slide_type": "fragment"
    }
   },
   "outputs": [
    {
     "name": "stdout",
     "output_type": "stream",
     "text": [
      "\u001b[1;31mValueError : \u001b[1;31minvalid literal for int() with base 10: '-f'\u001b[0m\n"
     ]
    }
   ],
   "source": [
    "%%handle\n",
    "if __name__ == \"__main__\":\n",
    "    import sys\n",
    "    fib(int(sys.argv[1]))"
   ]
  },
  {
   "cell_type": "markdown",
   "metadata": {
    "id": "vMiIZnmOBNMc",
    "slideshow": {
     "slide_type": "slide"
    }
   },
   "source": [
    "## Standard Library"
   ]
  },
  {
   "cell_type": "code",
   "execution_count": null,
   "metadata": {
    "colab": {
     "base_uri": "https://localhost:8080/"
    },
    "id": "4L2Zs1vYBURp",
    "outputId": "7f4ace27-6f2e-4947-8321-631f6eb67ddb",
    "slideshow": {
     "slide_type": "fragment"
    }
   },
   "outputs": [
    {
     "data": {
      "text/plain": [
       "3.141592653589793"
      ]
     },
     "execution_count": 112,
     "metadata": {},
     "output_type": "execute_result"
    }
   ],
   "source": [
    "import math\n",
    "math.pi"
   ]
  },
  {
   "cell_type": "code",
   "execution_count": null,
   "metadata": {
    "colab": {
     "base_uri": "https://localhost:8080/"
    },
    "id": "zUoAfdpkBaO7",
    "outputId": "2aa9d3b7-64e5-4ffb-bf6d-c457228f456c",
    "slideshow": {
     "slide_type": "fragment"
    }
   },
   "outputs": [
    {
     "name": "stdout",
     "output_type": "stream",
     "text": [
      "0.4877145146356231\n"
     ]
    },
    {
     "data": {
      "text/plain": [
       "[5, 0, 3, 2, 8, 1, 7, 9, 4, 6]"
      ]
     },
     "execution_count": 113,
     "metadata": {},
     "output_type": "execute_result"
    }
   ],
   "source": [
    "from random import random, shuffle\n",
    "print(random())\n",
    "l = list(range(10))\n",
    "shuffle(l)\n",
    "l"
   ]
  },
  {
   "cell_type": "code",
   "execution_count": null,
   "metadata": {
    "colab": {
     "base_uri": "https://localhost:8080/"
    },
    "id": "r5kmsUKvCGbt",
    "outputId": "dc267ee2-265b-4d61-9ea0-55eab47ded2d",
    "slideshow": {
     "slide_type": "fragment"
    }
   },
   "outputs": [
    {
     "data": {
      "text/plain": [
       "datetime.date(2023, 1, 23)"
      ]
     },
     "execution_count": 114,
     "metadata": {},
     "output_type": "execute_result"
    }
   ],
   "source": [
    "from datetime import date\n",
    "now = date.today()\n",
    "now"
   ]
  },
  {
   "cell_type": "code",
   "execution_count": null,
   "metadata": {
    "colab": {
     "base_uri": "https://localhost:8080/"
    },
    "id": "QVpZI7MnCKg6",
    "outputId": "fda5b369-dd83-45e9-e4bf-9e84ac8bbe9a",
    "slideshow": {
     "slide_type": "fragment"
    }
   },
   "outputs": [
    {
     "data": {
      "text/plain": [
       "Counter({'a': 3, 'b': 2, 'c': 1})"
      ]
     },
     "execution_count": 115,
     "metadata": {},
     "output_type": "execute_result"
    }
   ],
   "source": [
    "from collections import Counter\n",
    "l = ['a', 'b', 'c', 'a', 'a', 'b']\n",
    "Counter(l)"
   ]
  },
  {
   "cell_type": "code",
   "execution_count": null,
   "metadata": {
    "colab": {
     "base_uri": "https://localhost:8080/"
    },
    "id": "c9owQJ2qIQcg",
    "outputId": "2b6d4d53-b851-4355-fb31-48f06c76d19d",
    "slideshow": {
     "slide_type": "subslide"
    }
   },
   "outputs": [
    {
     "data": {
      "text/plain": [
       "['banjo', 'bistro']"
      ]
     },
     "execution_count": 116,
     "metadata": {},
     "output_type": "execute_result"
    }
   ],
   "source": [
    "import re\n",
    "re.findall(r'b[a-z]*', 'I forgot my banjo in the bistro.')"
   ]
  },
  {
   "cell_type": "code",
   "execution_count": null,
   "metadata": {
    "colab": {
     "base_uri": "https://localhost:8080/"
    },
    "id": "UMzf3vZZISJl",
    "outputId": "912380c8-b213-4d93-ec69-1515f6a0f655",
    "slideshow": {
     "slide_type": "fragment"
    }
   },
   "outputs": [
    {
     "data": {
      "text/plain": [
       "['sample_data',\n",
       " 'sample_data/anscombe.json',\n",
       " 'sample_data/README.md',\n",
       " 'sample_data/mnist_train_small.csv',\n",
       " 'sample_data/california_housing_test.csv',\n",
       " 'sample_data/california_housing_train.csv',\n",
       " 'sample_data/mnist_test.csv']"
      ]
     },
     "execution_count": 117,
     "metadata": {},
     "output_type": "execute_result"
    }
   ],
   "source": [
    "import glob\n",
    "glob.glob('**', recursive=True)"
   ]
  },
  {
   "cell_type": "code",
   "execution_count": null,
   "metadata": {
    "colab": {
     "base_uri": "https://localhost:8080/"
    },
    "id": "H7zUfKhZITpg",
    "outputId": "3f2728a7-b72e-4988-fd60-3b7ba6bfe6a2",
    "slideshow": {
     "slide_type": "fragment"
    }
   },
   "outputs": [
    {
     "name": "stdout",
     "output_type": "stream",
     "text": [
      "[\n",
      "    \"foo\",\n",
      "    {\n",
      "        \"bar\": [\n",
      "            \"baz\",\n",
      "            null,\n",
      "            1.0,\n",
      "            2\n",
      "        ]\n",
      "    }\n",
      "]\n"
     ]
    },
    {
     "data": {
      "text/plain": [
       "['foo', {'bar': ['baz', None, 1.0, 2]}]"
      ]
     },
     "execution_count": 118,
     "metadata": {},
     "output_type": "execute_result"
    }
   ],
   "source": [
    "import json\n",
    "print(json.dumps(['foo', {'bar': ('baz', None, 1.0, 2)}],  indent=4))\n",
    "json.loads('[\"foo\", {\"bar\":[\"baz\", null, 1.0, 2]}]')"
   ]
  },
  {
   "cell_type": "markdown",
   "metadata": {
    "id": "QgHJ6_vNJRZV",
    "slideshow": {
     "slide_type": "slide"
    }
   },
   "source": [
    "## pip / PyPi - The Python Package Index\n",
    "\n",
    "https://pypi.org/\n",
    "\n",
    "```sh\n",
    "pip install requests\n",
    "```\n"
   ]
  },
  {
   "cell_type": "code",
   "execution_count": null,
   "metadata": {
    "colab": {
     "base_uri": "https://localhost:8080/"
    },
    "id": "mSegCNRaJQ12",
    "outputId": "258a28ed-cb2e-4ede-f84c-55c0d2f6ae08",
    "slideshow": {
     "slide_type": "fragment"
    }
   },
   "outputs": [
    {
     "data": {
      "text/plain": [
       "[{'name': 'yt-dlp',\n",
       "  'html_url': 'https://github.com/yt-dlp/yt-dlp',\n",
       "  'stargazers_count': 38227},\n",
       " {'name': 'd2l-zh',\n",
       "  'html_url': 'https://github.com/d2l-ai/d2l-zh',\n",
       "  'stargazers_count': 37339},\n",
       " {'name': 'glances',\n",
       "  'html_url': 'https://github.com/nicolargo/glances',\n",
       "  'stargazers_count': 22162},\n",
       " {'name': 'algorithms',\n",
       "  'html_url': 'https://github.com/keon/algorithms',\n",
       "  'stargazers_count': 22055},\n",
       " {'name': 'NLP-progress',\n",
       "  'html_url': 'https://github.com/sebastianruder/NLP-progress',\n",
       "  'stargazers_count': 21265},\n",
       " {'name': 'macOS-Security-and-Privacy-Guide',\n",
       "  'html_url': 'https://github.com/drduh/macOS-Security-and-Privacy-Guide',\n",
       "  'stargazers_count': 19879},\n",
       " {'name': '30-Days-Of-Python',\n",
       "  'html_url': 'https://github.com/Asabeneh/30-Days-Of-Python',\n",
       "  'stargazers_count': 18347},\n",
       " {'name': 'd2l-en',\n",
       "  'html_url': 'https://github.com/d2l-ai/d2l-en',\n",
       "  'stargazers_count': 16206},\n",
       " {'name': 'avatarify-python',\n",
       "  'html_url': 'https://github.com/alievk/avatarify-python',\n",
       "  'stargazers_count': 15353},\n",
       " {'name': 'Shadowrocket-ADBlock-Rules',\n",
       "  'html_url': 'https://github.com/h2y/Shadowrocket-ADBlock-Rules',\n",
       "  'stargazers_count': 14328},\n",
       " {'name': 'fabric',\n",
       "  'html_url': 'https://github.com/fabric/fabric',\n",
       "  'stargazers_count': 13820},\n",
       " {'name': 'deep-learning-for-image-processing',\n",
       "  'html_url': 'https://github.com/WZMIAOMIAO/deep-learning-for-image-processing',\n",
       "  'stargazers_count': 13803},\n",
       " {'name': 'DeDRM_tools',\n",
       "  'html_url': 'https://github.com/apprenticeharper/DeDRM_tools',\n",
       "  'stargazers_count': 13245},\n",
       " {'name': 'the-gan-zoo',\n",
       "  'html_url': 'https://github.com/hindupuravinash/the-gan-zoo',\n",
       "  'stargazers_count': 12920},\n",
       " {'name': 'erpnext',\n",
       "  'html_url': 'https://github.com/frappe/erpnext',\n",
       "  'stargazers_count': 12624},\n",
       " {'name': 'tutorials',\n",
       "  'html_url': 'https://github.com/MorvanZhou/tutorials',\n",
       "  'stargazers_count': 10445},\n",
       " {'name': 'pwntools',\n",
       "  'html_url': 'https://github.com/Gallopsled/pwntools',\n",
       "  'stargazers_count': 9845},\n",
       " {'name': 'chinese-xinhua',\n",
       "  'html_url': 'https://github.com/pwxcoo/chinese-xinhua',\n",
       "  'stargazers_count': 9836},\n",
       " {'name': 'openai-cookbook',\n",
       "  'html_url': 'https://github.com/openai/openai-cookbook',\n",
       "  'stargazers_count': 9812},\n",
       " {'name': 'alphafold',\n",
       "  'html_url': 'https://github.com/deepmind/alphafold',\n",
       "  'stargazers_count': 9768},\n",
       " {'name': 'pytest',\n",
       "  'html_url': 'https://github.com/pytest-dev/pytest',\n",
       "  'stargazers_count': 9714},\n",
       " {'name': 'labelme',\n",
       "  'html_url': 'https://github.com/wkentaro/labelme',\n",
       "  'stargazers_count': 9641},\n",
       " {'name': 'rembg',\n",
       "  'html_url': 'https://github.com/danielgatis/rembg',\n",
       "  'stargazers_count': 8013},\n",
       " {'name': 'pyro',\n",
       "  'html_url': 'https://github.com/pyro-ppl/pyro',\n",
       "  'stargazers_count': 7757},\n",
       " {'name': 'spinningup',\n",
       "  'html_url': 'https://github.com/openai/spinningup',\n",
       "  'stargazers_count': 7689},\n",
       " {'name': 'MHDDoS',\n",
       "  'html_url': 'https://github.com/MatrixTM/MHDDoS',\n",
       "  'stargazers_count': 7688},\n",
       " {'name': 'text_classification',\n",
       "  'html_url': 'https://github.com/brightmart/text_classification',\n",
       "  'stargazers_count': 7484},\n",
       " {'name': 'wtv',\n",
       "  'html_url': 'https://github.com/biancangming/wtv',\n",
       "  'stargazers_count': 7359},\n",
       " {'name': 'SpaceshipGenerator',\n",
       "  'html_url': 'https://github.com/a1studmuffin/SpaceshipGenerator',\n",
       "  'stargazers_count': 7312},\n",
       " {'name': 'trax',\n",
       "  'html_url': 'https://github.com/google/trax',\n",
       "  'stargazers_count': 7310}]"
      ]
     },
     "execution_count": 119,
     "metadata": {},
     "output_type": "execute_result"
    }
   ],
   "source": [
    "import requests\n",
    "r = requests.get(\"https://api.github.com/search/repositories?q=language:python&sort=stars&page=1\")\n",
    "data = r.json()\n",
    "[{key: item[key] for key in ['name', 'html_url', 'stargazers_count']} for item in data['items']]"
   ]
  },
  {
   "cell_type": "markdown",
   "metadata": {
    "id": "Ebb9z0Ly6Sk4",
    "slideshow": {
     "slide_type": "slide"
    }
   },
   "source": [
    " # Errors and Exceptions\n",
    "Even if a statement or expression is syntactically correct, it may cause an error when an attempt is made to execute it.\n",
    "- Errors detected during execution are called exceptions and are not unconditionally fatal.\n"
   ]
  },
  {
   "cell_type": "code",
   "execution_count": null,
   "metadata": {
    "colab": {
     "base_uri": "https://localhost:8080/"
    },
    "id": "Bf9g4MVqe9V7",
    "outputId": "f6089506-aaf3-4432-a4ed-c9e1d8184bb6",
    "slideshow": {
     "slide_type": "fragment"
    }
   },
   "outputs": [
    {
     "name": "stdout",
     "output_type": "stream",
     "text": [
      "Oops!  That was no valid number.  Try again...\n"
     ]
    }
   ],
   "source": [
    "try:\n",
    "    x = 'ab'\n",
    "    int(x)\n",
    "except ValueError:\n",
    "    print(\"Oops!  That was no valid number.  Try again...\")"
   ]
  },
  {
   "cell_type": "code",
   "execution_count": null,
   "metadata": {
    "colab": {
     "base_uri": "https://localhost:8080/"
    },
    "id": "L8xrGhMfKpFX",
    "outputId": "75c5c7c9-f964-4e3e-f5a1-74f85b6e3fb6",
    "slideshow": {
     "slide_type": "subslide"
    }
   },
   "outputs": [
    {
     "name": "stdout",
     "output_type": "stream",
     "text": [
      "OS error: [Errno 2] No such file or directory: 'myfile.txt'\n",
      "Goodbye, world!\n"
     ]
    }
   ],
   "source": [
    "try:\n",
    "    f = open('myfile.txt')\n",
    "    s = f.readline()\n",
    "    i = int(s.strip())\n",
    "except OSError as err:\n",
    "    print(\"OS error:\", err)\n",
    "except ValueError:\n",
    "    print(\"Could not convert data to an integer.\")\n",
    "except Exception as err:\n",
    "    print(f\"Unexpected {err=}, {type(err)=}\")\n",
    "    raise\n",
    "finally:\n",
    "    print('Goodbye, world!')"
   ]
  },
  {
   "cell_type": "markdown",
   "metadata": {
    "id": "H84SUek6Jv8n",
    "slideshow": {
     "slide_type": "slide"
    }
   },
   "source": [
    "# Objects and Classes\n",
    "-\tEverything in Python is an object.\n",
    "\n",
    "Conceptually every object is a box with a value and a defined type\n",
    "-\tUsing the box analogy for Python reference model\n",
    "-\tA class is “the mold that makes that box”\n",
    "\n",
    "class keyword specifies the definition of the object (its type)\n"
   ]
  },
  {
   "cell_type": "markdown",
   "metadata": {
    "id": "SRwfzPwzKO2c",
    "slideshow": {
     "slide_type": "slide"
    }
   },
   "source": [
    "Classes Abstract collection of variables and methods\n"
   ]
  },
  {
   "cell_type": "code",
   "execution_count": null,
   "metadata": {
    "id": "c4iC63s8KVPO",
    "slideshow": {
     "slide_type": "fragment"
    }
   },
   "outputs": [],
   "source": [
    "class Person():\n",
    "    kind = 'human'                   # class variable shared by all instances\n",
    "    def __init__(self, name, email):\n",
    "        self.name = name             # instance variable unique to each instance\n",
    "        self.email = email\n",
    "        \n",
    "    def print_contact(self):\n",
    "        print(self.name, self.email)"
   ]
  },
  {
   "cell_type": "markdown",
   "metadata": {
    "id": "FZXPL6UTKVkc",
    "slideshow": {
     "slide_type": "slide"
    }
   },
   "source": [
    "An object is the instantiation of a class"
   ]
  },
  {
   "cell_type": "code",
   "execution_count": null,
   "metadata": {
    "colab": {
     "base_uri": "https://localhost:8080/"
    },
    "id": "8MtbP07eKV--",
    "outputId": "f1da8cb9-09c8-4181-e5ba-77ab385ea18c",
    "slideshow": {
     "slide_type": "fragment"
    }
   },
   "outputs": [
    {
     "name": "stdout",
     "output_type": "stream",
     "text": [
      "Max Max@gmail.com\n"
     ]
    }
   ],
   "source": [
    "person_max = Person(\"Max\", \"Max@gmail.com\")\n",
    "person_max.print_contact()"
   ]
  },
  {
   "cell_type": "markdown",
   "metadata": {
    "id": "yqLgYHmCKedj",
    "slideshow": {
     "slide_type": "slide"
    }
   },
   "source": [
    "### Inheritance\n",
    "This base class (object type) can be extended to create a new object type"
   ]
  },
  {
   "cell_type": "code",
   "execution_count": null,
   "metadata": {
    "colab": {
     "base_uri": "https://localhost:8080/"
    },
    "id": "EFxbOZBUKhkH",
    "outputId": "17ff9d13-0945-4181-c3ac-aefc26ca745f",
    "slideshow": {
     "slide_type": "fragment"
    }
   },
   "outputs": [
    {
     "name": "stdout",
     "output_type": "stream",
     "text": [
      "Max max@pdx.edu\n",
      "ID: 11235\n"
     ]
    }
   ],
   "source": [
    "class Student(Person):\n",
    "    def __init__(self, name, email, stu_id):\n",
    "        super().__init__(name, email)\n",
    "        self.stu_id = stu_id\n",
    "\n",
    "    def print_id(self):\n",
    "      print(f\"ID: {self.stu_id}\")\n",
    "\n",
    "person_max = Student(\"Max\", \"max@pdx.edu\", \"11235\")\n",
    "person_max.print_contact()\n",
    "person_max.print_id()"
   ]
  },
  {
   "cell_type": "markdown",
   "metadata": {
    "id": "lwFQPj5mKvRJ",
    "slideshow": {
     "slide_type": "fragment"
    }
   },
   "source": [
    "-\tStudent extends base class of Person by using Person as a parameter to its class declaration\n",
    "- Inherits the methods of Person\n",
    "-\tIf defined, student’s __init__ method overrides Person’s (to add a student ID)\n",
    "- Extends class with additional method print_id\n",
    "\n"
   ]
  },
  {
   "cell_type": "markdown",
   "metadata": {
    "id": "NfbViXQZME5P",
    "slideshow": {
     "slide_type": "slide"
    }
   },
   "source": [
    "### dataclass"
   ]
  },
  {
   "cell_type": "code",
   "execution_count": null,
   "metadata": {
    "colab": {
     "base_uri": "https://localhost:8080/"
    },
    "id": "62M5ReJeMdnu",
    "outputId": "fd35071f-be46-4f52-aa94-4ecdf89edad4",
    "slideshow": {
     "slide_type": "fragment"
    }
   },
   "outputs": [
    {
     "data": {
      "text/plain": [
       "Employee(name='Bob', salary=10000, dept='HR')"
      ]
     },
     "execution_count": 125,
     "metadata": {},
     "output_type": "execute_result"
    }
   ],
   "source": [
    "from dataclasses import dataclass\n",
    "@dataclass\n",
    "class Employee:\n",
    "    name: str\n",
    "    salary: int\n",
    "    dept: ... = 'HR'\n",
    "\n",
    "Employee('Bob', 10000)"
   ]
  },
  {
   "cell_type": "markdown",
   "metadata": {
    "id": "Q_4La3bjJy4h",
    "slideshow": {
     "slide_type": "slide"
    }
   },
   "source": [
    "# Coding Style\n",
    "\n",
    "For Python, [PEP 8](https://peps.python.org/pep-0008/) has emerged as the style guide that most projects adhere to; it promotes a very readable and eye-pleasing coding style.\n",
    "\n",
    "- Use 4-space indentation, and no tabs.\n",
    "- Wrap lines so that they don’t exceed 79 characters.\n",
    "- Use blank lines to separate functions and classes, and larger blocks of code inside functions.\n",
    "- When possible, put comments on a line of their own.\n",
    "- Use docstrings.\n",
    "- Use spaces around operators and after commas, but not directly inside bracketing constructs: `a = f(1, 2) + g(3, 4)`.\n",
    "- Name your classes and functions consistently; the convention is to use `UpperCamelCase` for classes and `lowercase_with_underscores` for functions and methods. Always use self as the name for the first method argument \n",
    "- UTF-8\n",
    "\n",
    "https://docs.python.org/3.11/tutorial/controlflow.html#intermezzo-coding-style"
   ]
  }
 ],
 "metadata": {
  "celltoolbar": "Slideshow",
  "colab": {
   "authorship_tag": "ABX9TyNA0EoOwa6BL82i/5w3PESH",
   "include_colab_link": true,
   "provenance": [],
   "toc_visible": true
  },
  "kernelspec": {
   "display_name": "Python 3 (ipykernel)",
   "language": "python",
   "name": "python3"
  },
  "language_info": {
   "codemirror_mode": {
    "name": "ipython",
    "version": 3
   },
   "file_extension": ".py",
   "mimetype": "text/x-python",
   "name": "python",
   "nbconvert_exporter": "python",
   "pygments_lexer": "ipython3",
   "version": "3.11.1"
  },
  "vscode": {
   "interpreter": {
    "hash": "9d9d131555dca4b36d69f923fcbe01305f999be9166783c4565d872b0ba7527a"
   }
  }
 },
 "nbformat": 4,
 "nbformat_minor": 4
}
